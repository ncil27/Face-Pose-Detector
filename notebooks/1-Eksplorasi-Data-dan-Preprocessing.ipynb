{
 "cells": [
  {
   "cell_type": "code",
   "execution_count": 1,
   "id": "4790a462-4110-4332-9ed3-64631c4c54c3",
   "metadata": {},
   "outputs": [
    {
     "name": "stdout",
     "output_type": "stream",
     "text": [
      "Semua library berhasil di-import!\n"
     ]
    }
   ],
   "source": [
    "import os\n",
    "import pandas as pd\n",
    "import numpy as np\n",
    "import cv2\n",
    "import matplotlib.pyplot as plt\n",
    "\n",
    "print(\"Semua library berhasil di-import!\")"
   ]
  },
  {
   "cell_type": "code",
   "execution_count": 2,
   "id": "94862362-b64e-4556-bb45-daff7755e063",
   "metadata": {},
   "outputs": [
    {
     "name": "stdout",
     "output_type": "stream",
     "text": [
      "Berhasil memuat informasi dari 0 gambar.\n"
     ]
    }
   ],
   "source": [
    "# Sesuaikan path ini dengan struktur folder di komputermu\n",
    "# Tanda ../ artinya \"naik satu level direktori\" dari folder /notebooks ke folder utama\n",
    "data_path = '../data/faces-png/'\n",
    "\n",
    "# List untuk menampung informasi dari setiap gambar\n",
    "image_data = []\n",
    "\n",
    "# Loop melalui setiap file dalam direktori dan subdirektori\n",
    "for root, dirs, files in os.walk(data_path):\n",
    "    for file in files:\n",
    "        # Kita hanya proses file dengan ekstensi .png\n",
    "        if file.endswith('.png'):\n",
    "            file_path = os.path.join(root, file)\n",
    "            \n",
    "            # Memecah nama file untuk mendapatkan atributnya\n",
    "            # Contoh: an2i_straight_happy_open_1.png\n",
    "            parts = file.replace('.png', '').split('_')\n",
    "            \n",
    "            # Buat dictionary untuk menyimpan informasi\n",
    "            info = {\n",
    "                'path': file_path,\n",
    "                'userid': parts[0],\n",
    "                'pose': parts[1],\n",
    "                'expression': parts[2],\n",
    "                'eyes': parts[3]\n",
    "            }\n",
    "            \n",
    "            # Handle scale yang kadang ada, kadang tidak\n",
    "            if len(parts) > 4:\n",
    "                info['scale'] = parts[4]\n",
    "            else:\n",
    "                info['scale'] = 'unknown' # atau bisa diisi default value lain\n",
    "            \n",
    "            image_data.append(info)\n",
    "\n",
    "# Konversi list of dictionaries menjadi Pandas DataFrame agar mudah diolah\n",
    "df = pd.DataFrame(image_data)\n",
    "\n",
    "print(f\"Berhasil memuat informasi dari {len(df)} gambar.\")"
   ]
  },
  {
   "cell_type": "code",
   "execution_count": 3,
   "id": "046ce7b8-2ad5-4aa4-80c6-ed0647529f91",
   "metadata": {},
   "outputs": [
    {
     "data": {
      "text/html": [
       "<div>\n",
       "<style scoped>\n",
       "    .dataframe tbody tr th:only-of-type {\n",
       "        vertical-align: middle;\n",
       "    }\n",
       "\n",
       "    .dataframe tbody tr th {\n",
       "        vertical-align: top;\n",
       "    }\n",
       "\n",
       "    .dataframe thead th {\n",
       "        text-align: right;\n",
       "    }\n",
       "</style>\n",
       "<table border=\"1\" class=\"dataframe\">\n",
       "  <thead>\n",
       "    <tr style=\"text-align: right;\">\n",
       "      <th></th>\n",
       "    </tr>\n",
       "  </thead>\n",
       "  <tbody>\n",
       "  </tbody>\n",
       "</table>\n",
       "</div>"
      ],
      "text/plain": [
       "Empty DataFrame\n",
       "Columns: []\n",
       "Index: []"
      ]
     },
     "execution_count": 3,
     "metadata": {},
     "output_type": "execute_result"
    }
   ],
   "source": [
    "# Tampilkan 5 baris pertama dari data\n",
    "df.head()"
   ]
  },
  {
   "cell_type": "code",
   "execution_count": 4,
   "id": "0f9129d4-3ed2-4132-9918-918ad118eaeb",
   "metadata": {},
   "outputs": [
    {
     "ename": "KeyError",
     "evalue": "'pose'",
     "output_type": "error",
     "traceback": [
      "\u001b[1;31m---------------------------------------------------------------------------\u001b[0m",
      "\u001b[1;31mKeyError\u001b[0m                                  Traceback (most recent call last)",
      "Cell \u001b[1;32mIn[4], line 2\u001b[0m\n\u001b[0;32m      1\u001b[0m \u001b[38;5;66;03m# Hitung jumlah gambar untuk setiap pose\u001b[39;00m\n\u001b[1;32m----> 2\u001b[0m pose_counts \u001b[38;5;241m=\u001b[39m \u001b[43mdf\u001b[49m\u001b[43m[\u001b[49m\u001b[38;5;124;43m'\u001b[39;49m\u001b[38;5;124;43mpose\u001b[39;49m\u001b[38;5;124;43m'\u001b[39;49m\u001b[43m]\u001b[49m\u001b[38;5;241m.\u001b[39mvalue_counts()\n\u001b[0;32m      3\u001b[0m \u001b[38;5;28mprint\u001b[39m(\u001b[38;5;124m\"\u001b[39m\u001b[38;5;124mDistribusi data berdasarkan pose:\u001b[39m\u001b[38;5;124m\"\u001b[39m)\n\u001b[0;32m      4\u001b[0m \u001b[38;5;28mprint\u001b[39m(pose_counts)\n",
      "File \u001b[1;32m~\\.conda\\envs\\homl3\\lib\\site-packages\\pandas\\core\\frame.py:3893\u001b[0m, in \u001b[0;36mDataFrame.__getitem__\u001b[1;34m(self, key)\u001b[0m\n\u001b[0;32m   3891\u001b[0m \u001b[38;5;28;01mif\u001b[39;00m \u001b[38;5;28mself\u001b[39m\u001b[38;5;241m.\u001b[39mcolumns\u001b[38;5;241m.\u001b[39mnlevels \u001b[38;5;241m>\u001b[39m \u001b[38;5;241m1\u001b[39m:\n\u001b[0;32m   3892\u001b[0m     \u001b[38;5;28;01mreturn\u001b[39;00m \u001b[38;5;28mself\u001b[39m\u001b[38;5;241m.\u001b[39m_getitem_multilevel(key)\n\u001b[1;32m-> 3893\u001b[0m indexer \u001b[38;5;241m=\u001b[39m \u001b[38;5;28;43mself\u001b[39;49m\u001b[38;5;241;43m.\u001b[39;49m\u001b[43mcolumns\u001b[49m\u001b[38;5;241;43m.\u001b[39;49m\u001b[43mget_loc\u001b[49m\u001b[43m(\u001b[49m\u001b[43mkey\u001b[49m\u001b[43m)\u001b[49m\n\u001b[0;32m   3894\u001b[0m \u001b[38;5;28;01mif\u001b[39;00m is_integer(indexer):\n\u001b[0;32m   3895\u001b[0m     indexer \u001b[38;5;241m=\u001b[39m [indexer]\n",
      "File \u001b[1;32m~\\.conda\\envs\\homl3\\lib\\site-packages\\pandas\\core\\indexes\\range.py:418\u001b[0m, in \u001b[0;36mRangeIndex.get_loc\u001b[1;34m(self, key)\u001b[0m\n\u001b[0;32m    416\u001b[0m         \u001b[38;5;28;01mraise\u001b[39;00m \u001b[38;5;167;01mKeyError\u001b[39;00m(key) \u001b[38;5;28;01mfrom\u001b[39;00m\u001b[38;5;250m \u001b[39m\u001b[38;5;21;01merr\u001b[39;00m\n\u001b[0;32m    417\u001b[0m \u001b[38;5;28;01mif\u001b[39;00m \u001b[38;5;28misinstance\u001b[39m(key, Hashable):\n\u001b[1;32m--> 418\u001b[0m     \u001b[38;5;28;01mraise\u001b[39;00m \u001b[38;5;167;01mKeyError\u001b[39;00m(key)\n\u001b[0;32m    419\u001b[0m \u001b[38;5;28mself\u001b[39m\u001b[38;5;241m.\u001b[39m_check_indexing_error(key)\n\u001b[0;32m    420\u001b[0m \u001b[38;5;28;01mraise\u001b[39;00m \u001b[38;5;167;01mKeyError\u001b[39;00m(key)\n",
      "\u001b[1;31mKeyError\u001b[0m: 'pose'"
     ]
    }
   ],
   "source": [
    "# Hitung jumlah gambar untuk setiap pose\n",
    "pose_counts = df['pose'].value_counts()\n",
    "print(\"Distribusi data berdasarkan pose:\")\n",
    "print(pose_counts)\n",
    "\n",
    "# Visualisasikan distribusi pose\n",
    "pose_counts.plot(kind='bar', figsize=(8, 5), rot=0)\n",
    "plt.title('Distribusi Pose Wajah dalam Dataset')\n",
    "plt.ylabel('Jumlah Gambar')\n",
    "plt.xlabel('Pose')\n",
    "plt.show()"
   ]
  },
  {
   "cell_type": "code",
   "execution_count": null,
   "id": "c5d7fde9-8527-431b-8415-110ca99e5279",
   "metadata": {},
   "outputs": [],
   "source": [
    "# Ambil satu sampel gambar secara acak (kode asli)\n",
    "sample = df.sample(1).iloc[0]\n",
    "\n",
    "# Baca gambar menggunakan OpenCV (kode asli)\n",
    "image = cv2.imread(sample['path'], cv2.IMREAD_GRAYSCALE)\n",
    "\n",
    "# Tampilkan informasi dan gambarnya (kode asli)\n",
    "print(f\"User ID: {sample['userid']}\")\n",
    "print(f\"Pose: {sample['pose']}\")\n",
    "print(f\"Ekspresi: {sample['expression']}\")\n",
    "print(f\"Mata: {sample['eyes']}\")\n",
    "print(f\"Ukuran Asli Gambar (Tinggi, Lebar): {image.shape}\")\n",
    "\n",
    "plt.imshow(image, cmap='gray')\n",
    "plt.title(f\"Pose: {sample['pose']}\")\n",
    "plt.axis('off') # Menghilangkan sumbu x dan y\n",
    "plt.show()\n",
    "\n",
    "# --- PENAMBAHAN: Tampilkan 4 contoh gambar untuk setiap pose ---\n",
    "poses_to_display = ['straight', 'right', 'up', 'left'] # Urutan pose yang ingin ditampilkan\n",
    "\n",
    "for pose_label in poses_to_display:\n",
    "    # Filter DataFrame untuk mendapatkan gambar dengan pose tertentu\n",
    "    pose_samples = df[df['pose'] == pose_label].sample(4, random_state=42) # Ambil 4 sampel acak untuk konsistensi\n",
    "\n",
    "    plt.figure(figsize=(10, 4)) # Ukuran figure untuk 4 gambar\n",
    "    plt.suptitle(f'Contoh Pose: {pose_label.capitalize()}', fontsize=16) # Judul besar untuk grup pose\n",
    "\n",
    "    for i, (index, row) in enumerate(pose_samples.iterrows()):\n",
    "        img_path = row['path']\n",
    "        img = cv2.imread(img_path, cv2.IMREAD_GRAYSCALE)\n",
    "\n",
    "        plt.subplot(1, 4, i + 1) # 1 baris, 4 kolom, gambar ke-(i+1)\n",
    "        plt.imshow(img, cmap='gray')\n",
    "        plt.title(f\"{row['userid']}\\n({row['expression']}, {row['eyes']})\")\n",
    "        plt.axis('off')\n",
    "\n",
    "    plt.tight_layout(rect=[0, 0.03, 1, 0.95]) # Sesuaikan layout agar judul tidak tumpang tindih\n",
    "    plt.show()\n",
    "# --- AKHIR PENAMBAHAN ---"
   ]
  },
  {
   "cell_type": "code",
   "execution_count": null,
   "id": "b1cd6926-c6b2-4b39-9e94-8b3815cbdb4d",
   "metadata": {},
   "outputs": [],
   "source": [
    "# Tentukan ukuran standar untuk semua gambar\n",
    "IMG_HEIGHT = 60\n",
    "IMG_WIDTH = 64\n",
    "IMG_SIZE = IMG_HEIGHT * IMG_WIDTH # Total piksel per gambar\n",
    "\n",
    "# List untuk menampung data gambar yang sudah di-flatten\n",
    "flattened_images = []\n",
    "# List untuk menampung label pose\n",
    "labels = []\n",
    "\n",
    "# Loop melalui setiap baris di DataFrame kita\n",
    "for index, row in df.iterrows():\n",
    "    # Baca gambar dalam mode grayscale\n",
    "    img = cv2.imread(row['path'], cv2.IMREAD_GRAYSCALE)\n",
    "    \n",
    "    # Resize gambar ke ukuran standar\n",
    "    img_resized = cv2.resize(img, (IMG_WIDTH, IMG_HEIGHT))\n",
    "    \n",
    "    # Flatten gambar dari 2D (60x64) menjadi 1D (3840)\n",
    "    img_flattened = img_resized.flatten()\n",
    "    \n",
    "    # Masukkan hasil ke list\n",
    "    flattened_images.append(img_flattened)\n",
    "    labels.append(row['pose'])\n",
    "\n",
    "# Konversi list menjadi NumPy array agar bisa diolah Scikit-learn\n",
    "X = np.array(flattened_images)\n",
    "y_text = np.array(labels)\n",
    "\n",
    "print(f\"Bentuk data fitur (X): {X.shape}\")\n",
    "print(f\"Bentuk data label (y_text): {y_text.shape}\")\n",
    "print(f\"Contoh data fitur baris pertama: {X[0]}\")"
   ]
  },
  {
   "cell_type": "code",
   "execution_count": null,
   "id": "2e9d36fb-5792-45ef-a3fb-82e8bf956897",
   "metadata": {},
   "outputs": [],
   "source": [
    "from sklearn.preprocessing import LabelEncoder\n",
    "\n",
    "# Membuat instance LabelEncoder\n",
    "le = LabelEncoder()\n",
    "\n",
    "# Fit dan transform label teks menjadi angka\n",
    "y = le.fit_transform(y_text)\n",
    "\n",
    "# Menampilkan hasil mapping dari angka ke teks\n",
    "print(\"Mapping Label (Angka -> Teks):\")\n",
    "for i, label in enumerate(le.classes_):\n",
    "    print(f\"{i} -> {label}\")\n",
    "\n",
    "print(f\"\\nContoh label setelah encoding: {y[:10]}\")"
   ]
  },
  {
   "cell_type": "code",
   "execution_count": null,
   "id": "4ede1cbe-3199-4120-be91-c02e50cbef23",
   "metadata": {},
   "outputs": [],
   "source": [
    "from sklearn.model_selection import train_test_split\n",
    "\n",
    "# Membagi data dengan perbandingan 80% train dan 20% test\n",
    "# stratify=y sangat penting agar proporsi setiap pose di train dan test set sama\n",
    "X_train, X_test, y_train, y_test = train_test_split(\n",
    "    X, y, \n",
    "    test_size=0.20, \n",
    "    random_state=42, # random_state agar hasil split selalu sama\n",
    "    stratify=y\n",
    ")\n",
    "\n",
    "print(f\"Ukuran X_train: {X_train.shape}\")\n",
    "print(f\"Ukuran X_test: {X_test.shape}\")\n",
    "print(f\"Ukuran y_train: {y_train.shape}\")\n",
    "print(f\"Ukuran y_test: {y_test.shape}\")"
   ]
  },
  {
   "cell_type": "code",
   "execution_count": null,
   "id": "8eead451-2da3-420d-9a37-4f100e8d8092",
   "metadata": {},
   "outputs": [],
   "source": [
    "from sklearn.preprocessing import StandardScaler\n",
    "from sklearn.decomposition import PCA\n",
    "\n",
    "# 1. Normalisasi/Scaling data\n",
    "# Kita ubah skala piksel dari 0-255 menjadi 0-1\n",
    "X_train_scaled = X_train / 255.0\n",
    "X_test_scaled = X_test / 255.0\n",
    "\n",
    "# 2. Menerapkan PCA\n",
    "# Kita set n_components=0.95, artinya PCA akan memilih jumlah komponen\n",
    "# yang bisa menjelaskan 95% dari varians data. Ini cara yang efisien.\n",
    "pca = PCA(n_components=0.95)\n",
    "\n",
    "# Fit PCA HANYA pada data latih\n",
    "# Lalu transform data latih dan data tes\n",
    "X_train_pca = pca.fit_transform(X_train_scaled)\n",
    "X_test_pca = pca.transform(X_test_scaled)\n",
    "\n",
    "print(f\"Dimensi asli setelah scaling: {X_train_scaled.shape[1]}\")\n",
    "print(f\"Dimensi setelah reduksi PCA: {pca.n_components_}\")\n",
    "print(f\"Bentuk X_train setelah PCA: {X_train_pca.shape}\")"
   ]
  },
  {
   "cell_type": "code",
   "execution_count": null,
   "id": "0b7c14c6-000e-4f90-9e9e-947e0688af1f",
   "metadata": {},
   "outputs": [],
   "source": [
    "from sklearn.svm import SVC\n",
    "\n",
    "# Membuat instance model SVC\n",
    "# kernel='rbf' adalah pilihan default yang sangat baik\n",
    "# C=1.0 adalah parameter regularisasi, kita bisa biarkan default dulu\n",
    "# gamma='scale' juga pilihan default yang bagus\n",
    "model = SVC(kernel='rbf', random_state=42, probability=True)\n",
    "\n",
    "# Melatih model menggunakan data training yang sudah di-PCA\n",
    "print(\"Memulai proses training model SVC...\")\n",
    "model.fit(X_train_pca, y_train)\n",
    "print(\"Training model selesai!\")"
   ]
  },
  {
   "cell_type": "code",
   "execution_count": null,
   "id": "3e1e856a-a130-47d4-8b49-c3f4fdbc5bf2",
   "metadata": {},
   "outputs": [],
   "source": [
    "# Menggunakan model yang sudah dilatih untuk memprediksi label data tes\n",
    "print(\"Membuat prediksi pada data tes...\")\n",
    "y_pred = model.predict(X_test_pca)\n",
    "print(\"Prediksi selesai.\")\n",
    "\n",
    "# Kita bisa bandingkan beberapa hasil prediksi dengan label aslinya\n",
    "print(\"\\nContoh perbandingan hasil:\")\n",
    "print(\"Prediksi  :\", y_pred[:10])\n",
    "print(\"Sebenarnya:\", y_test[:10])"
   ]
  },
  {
   "cell_type": "code",
   "execution_count": null,
   "id": "2b9ee58a-bc99-4fad-812e-0b96334da9d3",
   "metadata": {},
   "outputs": [],
   "source": [
    "from sklearn.metrics import accuracy_score, classification_report, confusion_matrix\n",
    "import seaborn as sns\n",
    "\n",
    "# 1. Menghitung Akurasi\n",
    "# Akurasi = (Jumlah tebakan benar) / (Total data tes)\n",
    "accuracy = accuracy_score(y_test, y_pred)\n",
    "print(f\"Akurasi Model: {accuracy * 100:.2f}%\\n\")\n",
    "\n",
    "# 2. Menampilkan Laporan Klasifikasi\n",
    "# Laporan ini memberikan detail precision, recall, dan f1-score untuk setiap kelas pose\n",
    "print(\"Laporan Klasifikasi:\")\n",
    "# Kita gunakan le.classes_ untuk menampilkan nama pose asli (bukan angka)\n",
    "print(classification_report(y_test, y_pred, target_names=le.classes_))\n",
    "\n",
    "# 3. Membuat Confusion Matrix\n",
    "# Matrix ini menunjukkan berapa banyak gambar 'left' yang ditebak 'right', dst.\n",
    "print(\"Confusion Matrix:\")\n",
    "cm = confusion_matrix(y_test, y_pred)\n",
    "\n",
    "# Visualisasikan confusion matrix agar lebih mudah dibaca\n",
    "plt.figure(figsize=(8, 6))\n",
    "sns.heatmap(cm, annot=True, fmt='d', cmap='Blues', \n",
    "            xticklabels=le.classes_, yticklabels=le.classes_)\n",
    "plt.title('Confusion Matrix')\n",
    "plt.ylabel('Label Sebenarnya (Actual)')\n",
    "plt.xlabel('Label Prediksi (Predicted)')\n",
    "plt.show()"
   ]
  },
  {
   "cell_type": "code",
   "execution_count": null,
   "id": "2c3251f2-b501-4171-ad9c-623ccb65060c",
   "metadata": {},
   "outputs": [],
   "source": [
    "import joblib\n",
    "\n",
    "# Pastikan folder 'models' ada\n",
    "os.makedirs('../models', exist_ok=True)\n",
    "\n",
    "# Simpan model SVC\n",
    "joblib.dump(model, '../models/pose_model.joblib')\n",
    "\n",
    "# Simpan objek PCA\n",
    "joblib.dump(pca, '../models/pca_transformer.joblib')\n",
    "\n",
    "# Simpan objek Label Encoder\n",
    "joblib.dump(le, '../models/label_encoder.joblib')\n",
    "\n",
    "print(\"Model, PCA, dan Label Encoder berhasil disimpan di folder /models!\")"
   ]
  }
 ],
 "metadata": {
  "kernelspec": {
   "display_name": "Python 3 (ipykernel)",
   "language": "python",
   "name": "python3"
  },
  "language_info": {
   "codemirror_mode": {
    "name": "ipython",
    "version": 3
   },
   "file_extension": ".py",
   "mimetype": "text/x-python",
   "name": "python",
   "nbconvert_exporter": "python",
   "pygments_lexer": "ipython3",
   "version": "3.10.17"
  }
 },
 "nbformat": 4,
 "nbformat_minor": 5
}
